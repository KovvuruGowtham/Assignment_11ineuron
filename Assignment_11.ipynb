{
 "cells": [
  {
   "cell_type": "raw",
   "id": "b8b2dfa4-b07f-49f0-b178-7235430179e4",
   "metadata": {},
   "source": [
    "1. Create an assert statement that throws an AssertionError if the variable spam is a negative\n",
    "integer."
   ]
  },
  {
   "cell_type": "code",
   "execution_count": 1,
   "id": "27abe135-f09c-4cf1-ae6f-0f6eb2d15d75",
   "metadata": {},
   "outputs": [
    {
     "ename": "AssertionError",
     "evalue": "spam is a negative integer",
     "output_type": "error",
     "traceback": [
      "\u001b[0;31m---------------------------------------------------------------------------\u001b[0m",
      "\u001b[0;31mAssertionError\u001b[0m                            Traceback (most recent call last)",
      "Cell \u001b[0;32mIn [1], line 2\u001b[0m\n\u001b[1;32m      1\u001b[0m spam \u001b[38;5;241m=\u001b[39m \u001b[38;5;241m-\u001b[39m\u001b[38;5;241m3\u001b[39m\n\u001b[0;32m----> 2\u001b[0m \u001b[38;5;28;01massert\u001b[39;00m spam\u001b[38;5;241m>\u001b[39m\u001b[38;5;241m=\u001b[39m\u001b[38;5;241m0\u001b[39m,\u001b[38;5;124m'\u001b[39m\u001b[38;5;124mspam is a negative integer\u001b[39m\u001b[38;5;124m'\u001b[39m\n",
      "\u001b[0;31mAssertionError\u001b[0m: spam is a negative integer"
     ]
    }
   ],
   "source": [
    "spam = -3\n",
    "assert spam>=0,'spam is a negative integer'"
   ]
  },
  {
   "cell_type": "raw",
   "id": "9269f159-9b53-4337-b556-fa988e01ebe1",
   "metadata": {},
   "source": [
    "2. Write an assert statement that triggers an AssertionError if the variables eggs and bacon contain\n",
    "strings that are the same as each other, even if their cases are different (that is, 'hello' and 'hello'a \n",
    "considered the same, and 'goodbye' and 'GOODbye' are also considered the same)."
   ]
  },
  {
   "cell_type": "code",
   "execution_count": 2,
   "id": "7912595d-ba4b-48e3-930c-60077b5bbe86",
   "metadata": {},
   "outputs": [
    {
     "ename": "AssertionError",
     "evalue": "Both the variables contain the same strings",
     "output_type": "error",
     "traceback": [
      "\u001b[0;31m---------------------------------------------------------------------------\u001b[0m",
      "\u001b[0;31mAssertionError\u001b[0m                            Traceback (most recent call last)",
      "Cell \u001b[0;32mIn [2], line 3\u001b[0m\n\u001b[1;32m      1\u001b[0m eggs \u001b[38;5;241m=\u001b[39m \u001b[38;5;124m'\u001b[39m\u001b[38;5;124mHeLLo\u001b[39m\u001b[38;5;124m'\u001b[39m\n\u001b[1;32m      2\u001b[0m bacon \u001b[38;5;241m=\u001b[39m \u001b[38;5;124m'\u001b[39m\u001b[38;5;124mhello\u001b[39m\u001b[38;5;124m'\u001b[39m\n\u001b[0;32m----> 3\u001b[0m \u001b[38;5;28;01massert\u001b[39;00m eggs\u001b[38;5;241m.\u001b[39mlower()\u001b[38;5;241m!=\u001b[39mbacon\u001b[38;5;241m.\u001b[39mlower(),\u001b[38;5;124m'\u001b[39m\u001b[38;5;124mBoth the variables contain the same strings\u001b[39m\u001b[38;5;124m'\u001b[39m\n",
      "\u001b[0;31mAssertionError\u001b[0m: Both the variables contain the same strings"
     ]
    }
   ],
   "source": [
    "eggs = 'HeLLo'\n",
    "bacon = 'hello'\n",
    "assert eggs.lower()!=bacon.lower(),'Both the variables contain the same strings'"
   ]
  },
  {
   "cell_type": "raw",
   "id": "2f64c5b5-1110-4cde-9a2c-c59edec6f160",
   "metadata": {},
   "source": [
    "3. Create an assert statement that throws an AssertionError every time."
   ]
  },
  {
   "cell_type": "code",
   "execution_count": 3,
   "id": "15242898-22e4-47e2-b134-c9929ed3a43c",
   "metadata": {},
   "outputs": [
    {
     "ename": "AssertionError",
     "evalue": "It throws AssertionError every time",
     "output_type": "error",
     "traceback": [
      "\u001b[0;31m---------------------------------------------------------------------------\u001b[0m",
      "\u001b[0;31mAssertionError\u001b[0m                            Traceback (most recent call last)",
      "Cell \u001b[0;32mIn [3], line 3\u001b[0m\n\u001b[1;32m      1\u001b[0m x\u001b[38;5;241m=\u001b[39m\u001b[38;5;241m1\u001b[39m\n\u001b[1;32m      2\u001b[0m y\u001b[38;5;241m=\u001b[39m\u001b[38;5;241m2\u001b[39m\n\u001b[0;32m----> 3\u001b[0m \u001b[38;5;28;01massert\u001b[39;00m x\u001b[38;5;241m>\u001b[39my,\u001b[38;5;124m'\u001b[39m\u001b[38;5;124mIt throws AssertionError every time\u001b[39m\u001b[38;5;124m'\u001b[39m\n",
      "\u001b[0;31mAssertionError\u001b[0m: It throws AssertionError every time"
     ]
    }
   ],
   "source": [
    "x=1\n",
    "y=2\n",
    "assert x>y,'It throws AssertionError every time'"
   ]
  },
  {
   "cell_type": "code",
   "execution_count": 4,
   "id": "6acdd2af-d8b3-4c08-9f14-a79a8b807d0f",
   "metadata": {},
   "outputs": [
    {
     "ename": "AssertionError",
     "evalue": "It throws AssertionError every time",
     "output_type": "error",
     "traceback": [
      "\u001b[0;31m---------------------------------------------------------------------------\u001b[0m",
      "\u001b[0;31mAssertionError\u001b[0m                            Traceback (most recent call last)",
      "Cell \u001b[0;32mIn [4], line 1\u001b[0m\n\u001b[0;32m----> 1\u001b[0m \u001b[38;5;28;01massert\u001b[39;00m \u001b[38;5;28;01mFalse\u001b[39;00m,\u001b[38;5;124m'\u001b[39m\u001b[38;5;124mIt throws AssertionError every time\u001b[39m\u001b[38;5;124m'\u001b[39m\n",
      "\u001b[0;31mAssertionError\u001b[0m: It throws AssertionError every time"
     ]
    }
   ],
   "source": [
    "assert False,'It throws AssertionError every time'"
   ]
  },
  {
   "cell_type": "raw",
   "id": "e5710b96-07ed-41f5-8059-61fa8db64603",
   "metadata": {},
   "source": [
    "4. What are the two lines that must be present in your software in order to call logging.debug()?"
   ]
  },
  {
   "cell_type": "raw",
   "id": "6a43a174-a338-454d-a549-6381b9828280",
   "metadata": {},
   "source": [
    "Ans:The two lines are as below-"
   ]
  },
  {
   "cell_type": "code",
   "execution_count": null,
   "id": "0e538bc5-38e8-4a75-b88d-a928eaef6d1f",
   "metadata": {},
   "outputs": [],
   "source": [
    "import logging   ## first line is importing the logging module into the python program\n",
    "logging.basicConfig(level=logging.DEBUG) ## second line is configuring the logging module to set the level of logging to \"DEBUG/INFO/WARNING/ERROR/CRITICAL\" "
   ]
  },
  {
   "cell_type": "raw",
   "id": "b1e1dda0-76f8-468b-9548-fb0f167de6bf",
   "metadata": {},
   "source": [
    "5. What are the two lines that your program must have in order to have logging.debug() send a logging message to a file named programLog.txt?"
   ]
  },
  {
   "cell_type": "raw",
   "id": "1d62f9a0-5a67-45c8-b630-b590e3a00a13",
   "metadata": {},
   "source": [
    "Ans: The two lines are as below:"
   ]
  },
  {
   "cell_type": "code",
   "execution_count": 6,
   "id": "1b5a1cc8-b703-4e64-b507-6e2d90499d5d",
   "metadata": {},
   "outputs": [],
   "source": [
    "import logging\n",
    "logging.basicConfig(filename='programLog.txt',level=logging.DEBUG)\n",
    "logging.debug('This is DEBUG level logging message')"
   ]
  },
  {
   "cell_type": "raw",
   "id": "576fdc17-74ff-49cf-b296-cb7903a477b6",
   "metadata": {},
   "source": [
    "6. What are the five levels of logging?"
   ]
  },
  {
   "cell_type": "raw",
   "id": "fdca2c36-2811-45ed-b355-71ea4031a7f6",
   "metadata": {},
   "source": [
    "Ans: The five levels of logging are: DEBUG,INFO,WARNING,ERROR and CRITICAL"
   ]
  },
  {
   "cell_type": "raw",
   "id": "716998a0-aeee-4760-a36a-78519d5f0f51",
   "metadata": {},
   "source": [
    "7. What line of code would you add to your software to disable all logging messages?"
   ]
  },
  {
   "cell_type": "code",
   "execution_count": null,
   "id": "437dab25-3c19-4d3f-b9ef-e9b481b63282",
   "metadata": {},
   "outputs": [],
   "source": [
    "Ans: logging.disable(logging.CRITICAL)"
   ]
  },
  {
   "cell_type": "raw",
   "id": "45a7d56b-c4dc-40fa-99f5-906b23254f8a",
   "metadata": {},
   "source": [
    "The above line of code sets the logging level to \"CRITICAL\" , which disables all logging messages at or below the 'CRITICAL' level."
   ]
  },
  {
   "cell_type": "raw",
   "id": "9c51a6d1-ed19-4c1d-b52a-43d6641240f8",
   "metadata": {},
   "source": [
    "8.Why is using logging messages better than using print() to display the same message?"
   ]
  },
  {
   "cell_type": "raw",
   "id": "139fc586-c172-4c93-ba88-bb5f513ad411",
   "metadata": {},
   "source": [
    "Ans: There are many advantages of using logging:\n",
    "1)It is easy to trace when and where a logging call is being made.\n",
    "2)The logging messages can be outputted in different destinations like file,console,email etc.\n",
    "3)The logging can be differentiated or filtered based on the level of severity.\n",
    "\n",
    "print() function can not provide any of the above features.Hence it is better use logging to display messages."
   ]
  },
  {
   "cell_type": "raw",
   "id": "ad64f58b-6854-4a1f-ae6b-65f05116624d",
   "metadata": {},
   "source": [
    "9. What are the differences between the Step Over, Step In, and Step Out buttons in the debugger?"
   ]
  },
  {
   "cell_type": "raw",
   "id": "8e183a7e-9134-4a51-9d33-81d0d3ece24f",
   "metadata": {},
   "source": [
    "Ans:\n",
    "Step Over: The step over button is used to execute the current line of code and move to the next line, without entering any functions or methods that may be called on that line.\n",
    "\n",
    "Step In: The Step In button is used to execute the current line of code and enter any functions or methods that may be called on that line.\n",
    "\n",
    "Step Out: The Step Out button is used to execute the remaining lines of code in the current function or method and return to the caller."
   ]
  },
  {
   "cell_type": "raw",
   "id": "ad8a29b0-d6b1-4da0-8e37-e6d80372eba1",
   "metadata": {},
   "source": [
    "10.After you click Continue, when will the debugger stop ?"
   ]
  },
  {
   "cell_type": "raw",
   "id": "bfaa09d0-bf39-42a7-8e76-741fc1c87f47",
   "metadata": {},
   "source": [
    "Ans: When we click Continue button in a debugger, the program will resume and continue to run until it either completes successfully or hits another breakpoint or encounters an unhandled exception that causes it to crash "
   ]
  },
  {
   "cell_type": "raw",
   "id": "8a2dda28-6ce7-41f6-bd48-2dc0878b2736",
   "metadata": {},
   "source": [
    "11. What is the concept of a breakpoint?"
   ]
  },
  {
   "cell_type": "raw",
   "id": "cba99953-acd3-4308-b257-d3f0781f794c",
   "metadata": {},
   "source": [
    "Ans: A breakpoint is a tool used in the debugger to pause the execution of a program at a specified point. When the program reaches the breakpoint, it stops running and enters a debugging mode, allowing us to examine the current state of the program and perform various actions to investigate and fix any issues."
   ]
  },
  {
   "cell_type": "code",
   "execution_count": 1,
   "id": "56ec03f0-16ff-47e6-8fa2-9b03c58cd030",
   "metadata": {},
   "outputs": [],
   "source": [
    "import pdb"
   ]
  },
  {
   "cell_type": "code",
   "execution_count": null,
   "id": "4a1a4a63-cf4f-4b62-b068-c8e7bc2f5e35",
   "metadata": {},
   "outputs": [
    {
     "name": "stdout",
     "output_type": "stream",
     "text": [
      "--Return--\n",
      "None\n",
      "> \u001b[0;32m/tmp/ipykernel_77/3392990332.py\u001b[0m(21)\u001b[0;36m<module>\u001b[0;34m()\u001b[0m\n",
      "\u001b[0;32m     19 \u001b[0;31m    \u001b[0;32mreturn\u001b[0m \u001b[0mresult\u001b[0m\u001b[0;34m\u001b[0m\u001b[0;34m\u001b[0m\u001b[0m\n",
      "\u001b[0m\u001b[0;32m     20 \u001b[0;31m\u001b[0;34m\u001b[0m\u001b[0m\n",
      "\u001b[0m\u001b[0;32m---> 21 \u001b[0;31m\u001b[0mpdb\u001b[0m\u001b[0;34m.\u001b[0m\u001b[0mset_trace\u001b[0m\u001b[0;34m(\u001b[0m\u001b[0;34m)\u001b[0m\u001b[0;34m\u001b[0m\u001b[0;34m\u001b[0m\u001b[0m\n",
      "\u001b[0m\u001b[0;32m     22 \u001b[0;31m\u001b[0;34m\u001b[0m\u001b[0m\n",
      "\u001b[0m\u001b[0;32m     23 \u001b[0;31m\u001b[0mfoo\u001b[0m\u001b[0;34m(\u001b[0m\u001b[0;34m)\u001b[0m\u001b[0;34m\u001b[0m\u001b[0;34m\u001b[0m\u001b[0m\n",
      "\u001b[0m\n"
     ]
    },
    {
     "name": "stdin",
     "output_type": "stream",
     "text": [
      "ipdb>  n\n"
     ]
    },
    {
     "name": "stdout",
     "output_type": "stream",
     "text": [
      "\u001b[0;31m    [... skipped 1 hidden frame]\u001b[0m\n",
      "\n",
      "> \u001b[0;32m/opt/conda/lib/python3.10/site-packages/IPython/core/interactiveshell.py\u001b[0m(3381)\u001b[0;36mrun_code\u001b[0;34m()\u001b[0m\n",
      "\u001b[0;32m   3379 \u001b[0;31m            \u001b[0;32mfinally\u001b[0m\u001b[0;34m:\u001b[0m\u001b[0;34m\u001b[0m\u001b[0;34m\u001b[0m\u001b[0m\n",
      "\u001b[0m\u001b[0;32m   3380 \u001b[0;31m                \u001b[0;31m# Reset our crash handler in place\u001b[0m\u001b[0;34m\u001b[0m\u001b[0;34m\u001b[0m\u001b[0m\n",
      "\u001b[0m\u001b[0;32m-> 3381 \u001b[0;31m                \u001b[0msys\u001b[0m\u001b[0;34m.\u001b[0m\u001b[0mexcepthook\u001b[0m \u001b[0;34m=\u001b[0m \u001b[0mold_excepthook\u001b[0m\u001b[0;34m\u001b[0m\u001b[0;34m\u001b[0m\u001b[0m\n",
      "\u001b[0m\u001b[0;32m   3382 \u001b[0;31m        \u001b[0;32mexcept\u001b[0m \u001b[0mSystemExit\u001b[0m \u001b[0;32mas\u001b[0m \u001b[0me\u001b[0m\u001b[0;34m:\u001b[0m\u001b[0;34m\u001b[0m\u001b[0;34m\u001b[0m\u001b[0m\n",
      "\u001b[0m\u001b[0;32m   3383 \u001b[0;31m            \u001b[0;32mif\u001b[0m \u001b[0mresult\u001b[0m \u001b[0;32mis\u001b[0m \u001b[0;32mnot\u001b[0m \u001b[0;32mNone\u001b[0m\u001b[0;34m:\u001b[0m\u001b[0;34m\u001b[0m\u001b[0;34m\u001b[0m\u001b[0m\n",
      "\u001b[0m\n"
     ]
    },
    {
     "name": "stdin",
     "output_type": "stream",
     "text": [
      "ipdb>  s\n"
     ]
    },
    {
     "name": "stdout",
     "output_type": "stream",
     "text": [
      "\u001b[0;31m    [... skipped 1 hidden frame]\u001b[0m\n",
      "\n",
      "> \u001b[0;32m/opt/conda/lib/python3.10/site-packages/IPython/core/interactiveshell.py\u001b[0m(3402)\u001b[0;36mrun_code\u001b[0;34m()\u001b[0m\n",
      "\u001b[0;32m   3400 \u001b[0;31m            \u001b[0mself\u001b[0m\u001b[0;34m.\u001b[0m\u001b[0mshowtraceback\u001b[0m\u001b[0;34m(\u001b[0m\u001b[0mrunning_compiled_code\u001b[0m\u001b[0;34m=\u001b[0m\u001b[0;32mTrue\u001b[0m\u001b[0;34m)\u001b[0m\u001b[0;34m\u001b[0m\u001b[0;34m\u001b[0m\u001b[0m\n",
      "\u001b[0m\u001b[0;32m   3401 \u001b[0;31m        \u001b[0;32melse\u001b[0m\u001b[0;34m:\u001b[0m\u001b[0;34m\u001b[0m\u001b[0;34m\u001b[0m\u001b[0m\n",
      "\u001b[0m\u001b[0;32m-> 3402 \u001b[0;31m            \u001b[0moutflag\u001b[0m \u001b[0;34m=\u001b[0m \u001b[0;32mFalse\u001b[0m\u001b[0;34m\u001b[0m\u001b[0;34m\u001b[0m\u001b[0m\n",
      "\u001b[0m\u001b[0;32m   3403 \u001b[0;31m        \u001b[0;32mreturn\u001b[0m \u001b[0moutflag\u001b[0m\u001b[0;34m\u001b[0m\u001b[0;34m\u001b[0m\u001b[0m\n",
      "\u001b[0m\u001b[0;32m   3404 \u001b[0;31m\u001b[0;34m\u001b[0m\u001b[0m\n",
      "\u001b[0m\n"
     ]
    },
    {
     "name": "stdin",
     "output_type": "stream",
     "text": [
      "ipdb>  r\n"
     ]
    },
    {
     "name": "stdout",
     "output_type": "stream",
     "text": [
      "\u001b[0;31m    [... skipped 1 hidden frame]\u001b[0m\n",
      "\n",
      "\u001b[0;31m    [... skipped 1 hidden frame]\u001b[0m\n",
      "\n",
      "Start of foo\n",
      "Start of bar\n",
      "Start of baz\n",
      "End of baz\n",
      "End of bar\n",
      "End of foo\n",
      "Internal StopIteration: False\n",
      "> \u001b[0;32m/opt/conda/lib/python3.10/site-packages/IPython/core/interactiveshell.py\u001b[0m(3318)\u001b[0;36mrun_ast_nodes\u001b[0;34m()\u001b[0m\n",
      "\u001b[0;32m   3316 \u001b[0;31m                    \u001b[0mcode\u001b[0m \u001b[0;34m=\u001b[0m \u001b[0mcompiler\u001b[0m\u001b[0;34m(\u001b[0m\u001b[0mmod\u001b[0m\u001b[0;34m,\u001b[0m \u001b[0mcell_name\u001b[0m\u001b[0;34m,\u001b[0m \u001b[0mmode\u001b[0m\u001b[0;34m)\u001b[0m\u001b[0;34m\u001b[0m\u001b[0;34m\u001b[0m\u001b[0m\n",
      "\u001b[0m\u001b[0;32m   3317 \u001b[0;31m                    \u001b[0masy\u001b[0m \u001b[0;34m=\u001b[0m \u001b[0mcompare\u001b[0m\u001b[0;34m(\u001b[0m\u001b[0mcode\u001b[0m\u001b[0;34m)\u001b[0m\u001b[0;34m\u001b[0m\u001b[0;34m\u001b[0m\u001b[0m\n",
      "\u001b[0m\u001b[0;32m-> 3318 \u001b[0;31m                \u001b[0;32mif\u001b[0m \u001b[0;32mawait\u001b[0m \u001b[0mself\u001b[0m\u001b[0;34m.\u001b[0m\u001b[0mrun_code\u001b[0m\u001b[0;34m(\u001b[0m\u001b[0mcode\u001b[0m\u001b[0;34m,\u001b[0m \u001b[0mresult\u001b[0m\u001b[0;34m,\u001b[0m \u001b[0masync_\u001b[0m\u001b[0;34m=\u001b[0m\u001b[0masy\u001b[0m\u001b[0;34m)\u001b[0m\u001b[0;34m:\u001b[0m\u001b[0;34m\u001b[0m\u001b[0;34m\u001b[0m\u001b[0m\n",
      "\u001b[0m\u001b[0;32m   3319 \u001b[0;31m                    \u001b[0;32mreturn\u001b[0m \u001b[0;32mTrue\u001b[0m\u001b[0;34m\u001b[0m\u001b[0;34m\u001b[0m\u001b[0m\n",
      "\u001b[0m\u001b[0;32m   3320 \u001b[0;31m\u001b[0;34m\u001b[0m\u001b[0m\n",
      "\u001b[0m\n"
     ]
    }
   ],
   "source": [
    "def foo():\n",
    "    print(\"Start of foo\")\n",
    "    x = 1\n",
    "    y = 2\n",
    "    z = bar(x,y)\n",
    "    print(\"End of foo\")\n",
    "    \n",
    "def bar(a,b):\n",
    "    print(\"Start of bar\")\n",
    "    c = a+b\n",
    "    d = baz(c)\n",
    "    print(\"End of bar\")\n",
    "    return d\n",
    "\n",
    "def baz(n):\n",
    "    print(\"Start of baz\")\n",
    "    result = n*n\n",
    "    print(\"End of baz\")\n",
    "    return result\n",
    "\n",
    "pdb.set_trace()\n",
    "\n",
    "foo()"
   ]
  },
  {
   "cell_type": "code",
   "execution_count": null,
   "id": "7a233e43-6b63-4434-98ed-db50c9e018a2",
   "metadata": {},
   "outputs": [],
   "source": [
    "import pdb\n",
    "def addition(a,b):\n",
    "    answer = a*b\n",
    "    return answer\n",
    "\n",
    "pdb.set_trace()\n",
    "x = input(\"Enter first number: \")\n",
    "y = input(\"Enter second number: \")\n",
    "summ = addition(x,y)\n",
    "print(summ)"
   ]
  },
  {
   "cell_type": "code",
   "execution_count": null,
   "id": "4b716c44-de6a-442d-b3cc-3206e2e42e0b",
   "metadata": {},
   "outputs": [],
   "source": []
  }
 ],
 "metadata": {
  "kernelspec": {
   "display_name": "Python 3 (ipykernel)",
   "language": "python",
   "name": "python3"
  },
  "language_info": {
   "codemirror_mode": {
    "name": "ipython",
    "version": 3
   },
   "file_extension": ".py",
   "mimetype": "text/x-python",
   "name": "python",
   "nbconvert_exporter": "python",
   "pygments_lexer": "ipython3",
   "version": "3.10.6"
  }
 },
 "nbformat": 4,
 "nbformat_minor": 5
}
